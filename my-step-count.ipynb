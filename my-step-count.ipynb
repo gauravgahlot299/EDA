{
 "cells": [
  {
   "cell_type": "markdown",
   "metadata": {},
   "source": [
    "> Do the difficult things while they are easy and do the great things while they are small. A journey of a thousand miles must begin with a single step. \n",
    "*-Lao Tzu*\n",
    "\n",
    "I came across Kaggle recently; in the process of heading towards Data Science. This is my very first notebook which I am publishing. \n",
    "\n",
    "I see folks here tremendously showcasing their works and exploiting the datasets to get the gem out of them. I thought of starting with a small dataset which can be more linked with me. So, I am performing a short data analysis on my walking activity by analysing the step counts I make every day.\n",
    "\n",
    "I have recently installed an app in my mobile which tracks my steps - the outdoor and the basic ones; on hourly basis. \n",
    "    \n",
    "![](https://i.imgur.com/a8p80vDm.png) \n",
    "        "
   ]
  },
  {
   "cell_type": "markdown",
   "metadata": {},
   "source": [
    "# Importing essentials and the dataset"
   ]
  },
  {
   "cell_type": "code",
   "execution_count": 1,
   "metadata": {},
   "outputs": [],
   "source": [
    "import numpy as np\n",
    "import pandas as pd\n",
    "%matplotlib inline\n",
    "import matplotlib.pyplot as plt\n",
    "import seaborn as sns\n",
    "\n",
    "steps = pd.read_csv(\"./data/AugustSteps.csv\",parse_dates=True)"
   ]
  },
  {
   "cell_type": "markdown",
   "metadata": {},
   "source": [
    "### Let's have a look at the data we have"
   ]
  },
  {
   "cell_type": "code",
   "execution_count": 2,
   "metadata": {},
   "outputs": [
    {
     "data": {
      "text/html": [
       "<div>\n",
       "<style scoped>\n",
       "    .dataframe tbody tr th:only-of-type {\n",
       "        vertical-align: middle;\n",
       "    }\n",
       "\n",
       "    .dataframe tbody tr th {\n",
       "        vertical-align: top;\n",
       "    }\n",
       "\n",
       "    .dataframe thead th {\n",
       "        text-align: right;\n",
       "    }\n",
       "</style>\n",
       "<table border=\"1\" class=\"dataframe\">\n",
       "  <thead>\n",
       "    <tr style=\"text-align: right;\">\n",
       "      <th></th>\n",
       "      <th>Date</th>\n",
       "      <th>Hour Slot</th>\n",
       "      <th>Outdoor Steps</th>\n",
       "      <th>Basic Steps</th>\n",
       "    </tr>\n",
       "  </thead>\n",
       "  <tbody>\n",
       "    <tr>\n",
       "      <td>0</td>\n",
       "      <td>Monday, July 29, 2019</td>\n",
       "      <td>12am-1am</td>\n",
       "      <td>NaN</td>\n",
       "      <td>NaN</td>\n",
       "    </tr>\n",
       "    <tr>\n",
       "      <td>1</td>\n",
       "      <td>Monday, July 29, 2019</td>\n",
       "      <td>1am-2am</td>\n",
       "      <td>NaN</td>\n",
       "      <td>NaN</td>\n",
       "    </tr>\n",
       "    <tr>\n",
       "      <td>2</td>\n",
       "      <td>Monday, July 29, 2019</td>\n",
       "      <td>2am-3am</td>\n",
       "      <td>NaN</td>\n",
       "      <td>NaN</td>\n",
       "    </tr>\n",
       "    <tr>\n",
       "      <td>3</td>\n",
       "      <td>Monday, July 29, 2019</td>\n",
       "      <td>3am-4am</td>\n",
       "      <td>NaN</td>\n",
       "      <td>NaN</td>\n",
       "    </tr>\n",
       "    <tr>\n",
       "      <td>4</td>\n",
       "      <td>Monday, July 29, 2019</td>\n",
       "      <td>4am-5am</td>\n",
       "      <td>NaN</td>\n",
       "      <td>NaN</td>\n",
       "    </tr>\n",
       "    <tr>\n",
       "      <td>5</td>\n",
       "      <td>Monday, July 29, 2019</td>\n",
       "      <td>5am-6am</td>\n",
       "      <td>NaN</td>\n",
       "      <td>NaN</td>\n",
       "    </tr>\n",
       "    <tr>\n",
       "      <td>6</td>\n",
       "      <td>Monday, July 29, 2019</td>\n",
       "      <td>6am-7am</td>\n",
       "      <td>NaN</td>\n",
       "      <td>NaN</td>\n",
       "    </tr>\n",
       "    <tr>\n",
       "      <td>7</td>\n",
       "      <td>Monday, July 29, 2019</td>\n",
       "      <td>7am-8am</td>\n",
       "      <td>NaN</td>\n",
       "      <td>NaN</td>\n",
       "    </tr>\n",
       "    <tr>\n",
       "      <td>8</td>\n",
       "      <td>Monday, July 29, 2019</td>\n",
       "      <td>8am-9am</td>\n",
       "      <td>NaN</td>\n",
       "      <td>NaN</td>\n",
       "    </tr>\n",
       "    <tr>\n",
       "      <td>9</td>\n",
       "      <td>Monday, July 29, 2019</td>\n",
       "      <td>9am-10am</td>\n",
       "      <td>NaN</td>\n",
       "      <td>NaN</td>\n",
       "    </tr>\n",
       "    <tr>\n",
       "      <td>10</td>\n",
       "      <td>Monday, July 29, 2019</td>\n",
       "      <td>10am-11am</td>\n",
       "      <td>NaN</td>\n",
       "      <td>NaN</td>\n",
       "    </tr>\n",
       "    <tr>\n",
       "      <td>11</td>\n",
       "      <td>Monday, July 29, 2019</td>\n",
       "      <td>11am-12pm</td>\n",
       "      <td>98.0</td>\n",
       "      <td>NaN</td>\n",
       "    </tr>\n",
       "    <tr>\n",
       "      <td>12</td>\n",
       "      <td>Monday, July 29, 2019</td>\n",
       "      <td>12pm-1pm</td>\n",
       "      <td>856.0</td>\n",
       "      <td>NaN</td>\n",
       "    </tr>\n",
       "    <tr>\n",
       "      <td>13</td>\n",
       "      <td>Monday, July 29, 2019</td>\n",
       "      <td>1pm-2pm</td>\n",
       "      <td>NaN</td>\n",
       "      <td>NaN</td>\n",
       "    </tr>\n",
       "    <tr>\n",
       "      <td>14</td>\n",
       "      <td>Monday, July 29, 2019</td>\n",
       "      <td>2pm-3pm</td>\n",
       "      <td>95.0</td>\n",
       "      <td>NaN</td>\n",
       "    </tr>\n",
       "    <tr>\n",
       "      <td>15</td>\n",
       "      <td>Monday, July 29, 2019</td>\n",
       "      <td>3pm-4pm</td>\n",
       "      <td>270.0</td>\n",
       "      <td>380.0</td>\n",
       "    </tr>\n",
       "    <tr>\n",
       "      <td>16</td>\n",
       "      <td>Monday, July 29, 2019</td>\n",
       "      <td>4pm-5pm</td>\n",
       "      <td>77.0</td>\n",
       "      <td>306.0</td>\n",
       "    </tr>\n",
       "    <tr>\n",
       "      <td>17</td>\n",
       "      <td>Monday, July 29, 2019</td>\n",
       "      <td>5pm-6pm</td>\n",
       "      <td>NaN</td>\n",
       "      <td>NaN</td>\n",
       "    </tr>\n",
       "    <tr>\n",
       "      <td>18</td>\n",
       "      <td>Monday, July 29, 2019</td>\n",
       "      <td>6pm-7pm</td>\n",
       "      <td>NaN</td>\n",
       "      <td>NaN</td>\n",
       "    </tr>\n",
       "    <tr>\n",
       "      <td>19</td>\n",
       "      <td>Monday, July 29, 2019</td>\n",
       "      <td>7pm-8pm</td>\n",
       "      <td>1099.0</td>\n",
       "      <td>NaN</td>\n",
       "    </tr>\n",
       "  </tbody>\n",
       "</table>\n",
       "</div>"
      ],
      "text/plain": [
       "                     Date  Hour Slot  Outdoor Steps  Basic Steps\n",
       "0   Monday, July 29, 2019   12am-1am            NaN          NaN\n",
       "1   Monday, July 29, 2019    1am-2am            NaN          NaN\n",
       "2   Monday, July 29, 2019    2am-3am            NaN          NaN\n",
       "3   Monday, July 29, 2019    3am-4am            NaN          NaN\n",
       "4   Monday, July 29, 2019    4am-5am            NaN          NaN\n",
       "5   Monday, July 29, 2019    5am-6am            NaN          NaN\n",
       "6   Monday, July 29, 2019    6am-7am            NaN          NaN\n",
       "7   Monday, July 29, 2019    7am-8am            NaN          NaN\n",
       "8   Monday, July 29, 2019    8am-9am            NaN          NaN\n",
       "9   Monday, July 29, 2019   9am-10am            NaN          NaN\n",
       "10  Monday, July 29, 2019  10am-11am            NaN          NaN\n",
       "11  Monday, July 29, 2019  11am-12pm           98.0          NaN\n",
       "12  Monday, July 29, 2019   12pm-1pm          856.0          NaN\n",
       "13  Monday, July 29, 2019    1pm-2pm            NaN          NaN\n",
       "14  Monday, July 29, 2019    2pm-3pm           95.0          NaN\n",
       "15  Monday, July 29, 2019    3pm-4pm          270.0        380.0\n",
       "16  Monday, July 29, 2019    4pm-5pm           77.0        306.0\n",
       "17  Monday, July 29, 2019    5pm-6pm            NaN          NaN\n",
       "18  Monday, July 29, 2019    6pm-7pm            NaN          NaN\n",
       "19  Monday, July 29, 2019    7pm-8pm         1099.0          NaN"
      ]
     },
     "execution_count": 2,
     "metadata": {},
     "output_type": "execute_result"
    }
   ],
   "source": [
    "steps.head(20)"
   ]
  },
  {
   "cell_type": "markdown",
   "metadata": {},
   "source": [
    "**Making data formatted**\n",
    "\n",
    "*Changing the time slots in 24-hour format*"
   ]
  },
  {
   "cell_type": "code",
   "execution_count": 3,
   "metadata": {},
   "outputs": [
    {
     "data": {
      "text/html": [
       "<div>\n",
       "<style scoped>\n",
       "    .dataframe tbody tr th:only-of-type {\n",
       "        vertical-align: middle;\n",
       "    }\n",
       "\n",
       "    .dataframe tbody tr th {\n",
       "        vertical-align: top;\n",
       "    }\n",
       "\n",
       "    .dataframe thead th {\n",
       "        text-align: right;\n",
       "    }\n",
       "</style>\n",
       "<table border=\"1\" class=\"dataframe\">\n",
       "  <thead>\n",
       "    <tr style=\"text-align: right;\">\n",
       "      <th></th>\n",
       "      <th>Date</th>\n",
       "      <th>Hour Slot</th>\n",
       "      <th>Outdoor Steps</th>\n",
       "      <th>Basic Steps</th>\n",
       "    </tr>\n",
       "  </thead>\n",
       "  <tbody>\n",
       "    <tr>\n",
       "      <td>0</td>\n",
       "      <td>Monday, July 29, 2019</td>\n",
       "      <td>00-01</td>\n",
       "      <td>NaN</td>\n",
       "      <td>NaN</td>\n",
       "    </tr>\n",
       "    <tr>\n",
       "      <td>1</td>\n",
       "      <td>Monday, July 29, 2019</td>\n",
       "      <td>01-02</td>\n",
       "      <td>NaN</td>\n",
       "      <td>NaN</td>\n",
       "    </tr>\n",
       "    <tr>\n",
       "      <td>2</td>\n",
       "      <td>Monday, July 29, 2019</td>\n",
       "      <td>02-03</td>\n",
       "      <td>NaN</td>\n",
       "      <td>NaN</td>\n",
       "    </tr>\n",
       "    <tr>\n",
       "      <td>3</td>\n",
       "      <td>Monday, July 29, 2019</td>\n",
       "      <td>03-04</td>\n",
       "      <td>NaN</td>\n",
       "      <td>NaN</td>\n",
       "    </tr>\n",
       "    <tr>\n",
       "      <td>4</td>\n",
       "      <td>Monday, July 29, 2019</td>\n",
       "      <td>04-05</td>\n",
       "      <td>NaN</td>\n",
       "      <td>NaN</td>\n",
       "    </tr>\n",
       "  </tbody>\n",
       "</table>\n",
       "</div>"
      ],
      "text/plain": [
       "                    Date Hour Slot  Outdoor Steps  Basic Steps\n",
       "0  Monday, July 29, 2019     00-01            NaN          NaN\n",
       "1  Monday, July 29, 2019     01-02            NaN          NaN\n",
       "2  Monday, July 29, 2019     02-03            NaN          NaN\n",
       "3  Monday, July 29, 2019     03-04            NaN          NaN\n",
       "4  Monday, July 29, 2019     04-05            NaN          NaN"
      ]
     },
     "execution_count": 3,
     "metadata": {},
     "output_type": "execute_result"
    }
   ],
   "source": [
    "def replaceHours(hour):\n",
    "    replaceString = \"\"\n",
    "    if hour.endswith('am'):\n",
    "        if hour.startswith('12'):\n",
    "            replaceString += '00'\n",
    "        elif hour.startswith('10') or hour.startswith('11'):\n",
    "            replaceString += hour[:2]\n",
    "        else:\n",
    "            replaceString += '0'+hour[:1]\n",
    "    if hour.endswith('pm'):\n",
    "        if hour.startswith('12'):\n",
    "            replaceString += hour[:2]\n",
    "        else:\n",
    "            replaceString += str(int(hour[:-2])+12)\n",
    "    return(replaceString)\n",
    "    \n",
    "def changeFormat(slot):\n",
    "    return replaceHours(slot[0])+'-'+replaceHours(slot[1])\n",
    "    \n",
    "steps['Hour Slot'] = steps['Hour Slot'].str.split('-').apply(changeFormat)  \n",
    "steps.head()"
   ]
  },
  {
   "cell_type": "markdown",
   "metadata": {},
   "source": [
    "*Dividing the Date column into the Weekday and the date*"
   ]
  },
  {
   "cell_type": "code",
   "execution_count": 4,
   "metadata": {},
   "outputs": [
    {
     "data": {
      "text/html": [
       "<div>\n",
       "<style scoped>\n",
       "    .dataframe tbody tr th:only-of-type {\n",
       "        vertical-align: middle;\n",
       "    }\n",
       "\n",
       "    .dataframe tbody tr th {\n",
       "        vertical-align: top;\n",
       "    }\n",
       "\n",
       "    .dataframe thead th {\n",
       "        text-align: right;\n",
       "    }\n",
       "</style>\n",
       "<table border=\"1\" class=\"dataframe\">\n",
       "  <thead>\n",
       "    <tr style=\"text-align: right;\">\n",
       "      <th></th>\n",
       "      <th>DayOfWeek</th>\n",
       "      <th>DateFormatted</th>\n",
       "      <th>Hour Slot</th>\n",
       "      <th>Outdoor Steps</th>\n",
       "      <th>Basic Steps</th>\n",
       "    </tr>\n",
       "  </thead>\n",
       "  <tbody>\n",
       "    <tr>\n",
       "      <td>0</td>\n",
       "      <td>Monday</td>\n",
       "      <td>July 29</td>\n",
       "      <td>00-01</td>\n",
       "      <td>NaN</td>\n",
       "      <td>NaN</td>\n",
       "    </tr>\n",
       "    <tr>\n",
       "      <td>1</td>\n",
       "      <td>Monday</td>\n",
       "      <td>July 29</td>\n",
       "      <td>01-02</td>\n",
       "      <td>NaN</td>\n",
       "      <td>NaN</td>\n",
       "    </tr>\n",
       "    <tr>\n",
       "      <td>2</td>\n",
       "      <td>Monday</td>\n",
       "      <td>July 29</td>\n",
       "      <td>02-03</td>\n",
       "      <td>NaN</td>\n",
       "      <td>NaN</td>\n",
       "    </tr>\n",
       "    <tr>\n",
       "      <td>3</td>\n",
       "      <td>Monday</td>\n",
       "      <td>July 29</td>\n",
       "      <td>03-04</td>\n",
       "      <td>NaN</td>\n",
       "      <td>NaN</td>\n",
       "    </tr>\n",
       "    <tr>\n",
       "      <td>4</td>\n",
       "      <td>Monday</td>\n",
       "      <td>July 29</td>\n",
       "      <td>04-05</td>\n",
       "      <td>NaN</td>\n",
       "      <td>NaN</td>\n",
       "    </tr>\n",
       "  </tbody>\n",
       "</table>\n",
       "</div>"
      ],
      "text/plain": [
       "  DayOfWeek DateFormatted Hour Slot  Outdoor Steps  Basic Steps\n",
       "0    Monday       July 29     00-01            NaN          NaN\n",
       "1    Monday       July 29     01-02            NaN          NaN\n",
       "2    Monday       July 29     02-03            NaN          NaN\n",
       "3    Monday       July 29     03-04            NaN          NaN\n",
       "4    Monday       July 29     04-05            NaN          NaN"
      ]
     },
     "execution_count": 4,
     "metadata": {},
     "output_type": "execute_result"
    }
   ],
   "source": [
    "steps.Date = steps.Date.str.split(', ')\n",
    "steps['DayOfWeek'] = steps.Date.apply(lambda x:x[0])\n",
    "steps['DateFormatted'] = steps.Date.apply(lambda x:x[1])\n",
    "steps.drop('Date', inplace = True, axis = 1)\n",
    "steps = steps[['DayOfWeek', 'DateFormatted', 'Hour Slot', 'Outdoor Steps', 'Basic Steps']]\n",
    "steps.head()"
   ]
  },
  {
   "cell_type": "markdown",
   "metadata": {},
   "source": [
    "**Let's see how are my steps across the day divided.**"
   ]
  },
  {
   "cell_type": "code",
   "execution_count": 5,
   "metadata": {},
   "outputs": [
    {
     "data": {
      "text/plain": [
       "<matplotlib.axes._subplots.AxesSubplot at 0x7f658286eba8>"
      ]
     },
     "execution_count": 5,
     "metadata": {},
     "output_type": "execute_result"
    },
    {
     "data": {
      "image/png": "[encoded data removed]",
      "text/plain": [
       "<Figure size 1080x720 with 2 Axes>"
      ]
     },
     "metadata": {
      "needs_background": "light"
     },
     "output_type": "display_data"
    }
   ],
   "source": [
    "df = steps[:]\n",
    "df.fillna(0, inplace = True)\n",
    "df['Total_Steps'] = df['Outdoor Steps'] + df['Basic Steps']\n",
    "df_new = df.pivot_table(index = 'DateFormatted', columns = 'Hour Slot', values = 'Total_Steps', aggfunc = 'sum')\n",
    "plt.figure(figsize = (15,10))\n",
    "sns.heatmap(df_new)"
   ]
  },
  {
   "cell_type": "markdown",
   "metadata": {},
   "source": [
    "*It is clearly visible that I walk more in  the mornings and the evenings. To be specific, I walk more in the mornings for about 2 hours (7 AM to 9 AM) and about 3 hours in the evenings (7 PM to 10 PM).*"
   ]
  },
  {
   "cell_type": "markdown",
   "metadata": {},
   "source": [
    "**Now I am curious to know how has been my outdoor walking pattern for the entire month. Let me decipher it.**"
   ]
  },
  {
   "cell_type": "code",
   "execution_count": 6,
   "metadata": {},
   "outputs": [
    {
     "data": {
      "text/plain": [
       "(array([ 0,  1,  2,  3,  4,  5,  6,  7,  8,  9, 10, 11, 12, 13, 14, 15, 16,\n",
       "        17, 18, 19, 20, 21, 22, 23, 24, 25, 26, 27, 28, 29, 30, 31]),\n",
       " <a list of 32 Text xticklabel objects>)"
      ]
     },
     "execution_count": 6,
     "metadata": {},
     "output_type": "execute_result"
    },
    {
     "data": {
      "image/png": "[encoded data removed]",
      "text/plain": [
       "<Figure size 1080x360 with 1 Axes>"
      ]
     },
     "metadata": {
      "needs_background": "light"
     },
     "output_type": "display_data"
    }
   ],
   "source": [
    "plt.figure(figsize = (15,5))\n",
    "sns.barplot(x = steps['DateFormatted'], y = steps['Outdoor Steps'])\n",
    "plt.xticks(rotation = 90)"
   ]
  },
  {
   "cell_type": "markdown",
   "metadata": {},
   "source": [
    "*I find it more sinusoidal. :p*"
   ]
  },
  {
   "cell_type": "markdown",
   "metadata": {},
   "source": [
    "**Let's more fine this pattern. Are my weekdays having any impact on my step count?**"
   ]
  },
  {
   "cell_type": "code",
   "execution_count": 7,
   "metadata": {},
   "outputs": [
    {
     "data": {
      "text/plain": [
       "(array([0, 1, 2, 3, 4, 5, 6]), <a list of 7 Text xticklabel objects>)"
      ]
     },
     "execution_count": 7,
     "metadata": {},
     "output_type": "execute_result"
    },
    {
     "data": {
      "image/png": "[encoded data removed]",
      "text/plain": [
       "<Figure size 1080x360 with 2 Axes>"
      ]
     },
     "metadata": {
      "needs_background": "light"
     },
     "output_type": "display_data"
    }
   ],
   "source": [
    "plt.figure(figsize = (15,5))\n",
    "plt.subplots_adjust(wspace = 0.5)\n",
    "plt.subplot(1,2,1)\n",
    "sns.barplot(x = steps['DayOfWeek'], y = steps['Outdoor Steps'])\n",
    "plt.xticks(rotation = 90)\n",
    "plt.subplot(1,2,2)\n",
    "sns.barplot(x = steps['DayOfWeek'], y = steps['Basic Steps'])\n",
    "plt.xticks(rotation = 90)"
   ]
  },
  {
   "cell_type": "markdown",
   "metadata": {},
   "source": [
    "*It seems I walk more in home on weekends. This is for sure as \"Who goes to the office on Sundays? Right?\" But the other thing I notice is that Thursdays are my lazy days - least outdoor walking plus least basic walking.* \n",
    "\n",
    "*I guess I prepare on Thurdays by saving fuel for Friday parties :)*"
   ]
  },
  {
   "cell_type": "markdown",
   "metadata": {},
   "source": [
    "**Let us find my walking central cendency for both the types of steps. Also, I wanna check my steps' spread.**"
   ]
  },
  {
   "cell_type": "code",
   "execution_count": 8,
   "metadata": {},
   "outputs": [
    {
     "name": "stdout",
     "output_type": "stream",
     "text": [
      "Mean: Outdoor Steps    6070.59375\n",
      "dtype: float64\n",
      "Mean: Basic Steps    1149.25\n",
      "dtype: float64\n"
     ]
    },
    {
     "data": {
      "text/plain": [
       "<matplotlib.legend.Legend at 0x7f6580561f28>"
      ]
     },
     "execution_count": 8,
     "metadata": {},
     "output_type": "execute_result"
    },
    {
     "data": {
      "image/png": "[encoded data removed]",
      "text/plain": [
       "<Figure size 432x288 with 1 Axes>"
      ]
     },
     "metadata": {
      "needs_background": "light"
     },
     "output_type": "display_data"
    }
   ],
   "source": [
    "df1 = steps.pivot_table(index='DateFormatted', values='Outdoor Steps', aggfunc = 'sum')\n",
    "sns.distplot(df1, label = 'Outdoor Steps')\n",
    "print(\"Mean:\",df1.mean())\n",
    "df2 = steps.pivot_table(index='DateFormatted', values='Basic Steps', aggfunc = 'sum')\n",
    "sns.distplot(df2, label = 'Basic Steps')\n",
    "print(\"Mean:\",df2.mean())\n",
    "plt.legend()"
   ]
  },
  {
   "cell_type": "markdown",
   "metadata": {},
   "source": [
    "The outdoor steps have more variance than the indoor ones."
   ]
  },
  {
   "cell_type": "markdown",
   "metadata": {},
   "source": [
    "**Let's see this variance in hourly basis.**"
   ]
  },
  {
   "cell_type": "code",
   "execution_count": 9,
   "metadata": {},
   "outputs": [
    {
     "data": {
      "text/plain": [
       "<matplotlib.legend.Legend at 0x7f658057c978>"
      ]
     },
     "execution_count": 9,
     "metadata": {},
     "output_type": "execute_result"
    },
    {
     "data": {
      "image/png": "[encoded data removed]",
      "text/plain": [
       "<Figure size 1080x360 with 1 Axes>"
      ]
     },
     "metadata": {
      "needs_background": "light"
     },
     "output_type": "display_data"
    }
   ],
   "source": [
    "df3 = steps.pivot_table(index='Hour Slot', values='Outdoor Steps', aggfunc = 'mean')\n",
    "df4 = steps.pivot_table(index='Hour Slot', values='Basic Steps', aggfunc = 'mean')\n",
    "plt.figure(figsize = (15,5))\n",
    "sns.distplot(df3, label = 'Outdoor Steps')\n",
    "sns.distplot(df4, label = 'Basic Steps')\n",
    "plt.legend()"
   ]
  },
  {
   "cell_type": "markdown",
   "metadata": {},
   "source": [
    "*Seems like I am very consistent with my Basic steps.*"
   ]
  },
  {
   "cell_type": "markdown",
   "metadata": {},
   "source": [
    "**Conclusions:-**\n",
    "* I walk more in mornings and late evenings. (Hope this helps me stay fit yo!)\n",
    "* I am consistent with my Basic walking pattern rather than the Outdoor ones.\n",
    "* I walk more outside than at home (Sundays are exceptions. I love experimenting in the kitcken that day).\n",
    "* Thursdays are the days to save energy for Friday nights. I walk very less on Thursdays."
   ]
  }
 ],
 "metadata": {
  "kernelspec": {
   "display_name": "Python 3",
   "language": "python",
   "name": "python3"
  },
  "language_info": {
   "codemirror_mode": {
    "name": "ipython",
    "version": 3
   },
   "file_extension": ".py",
   "mimetype": "text/x-python",
   "name": "python",
   "nbconvert_exporter": "python",
   "pygments_lexer": "ipython3",
   "version": "3.6.6"
  }
 },
 "nbformat": 4,
 "nbformat_minor": 1
}
